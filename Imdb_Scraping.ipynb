{
 "cells": [
  {
   "cell_type": "code",
   "execution_count": 1,
   "metadata": {},
   "outputs": [],
   "source": [
    "from  bs4 import BeautifulSoup as bs\n",
    "import requests\n",
    "import re"
   ]
  },
  {
   "cell_type": "code",
   "execution_count": 2,
   "metadata": {},
   "outputs": [],
   "source": [
    "headers = {'User-Agent': 'Mozilla/5.0 (Windows NT 6.1; WOW64) AppleWebKit/537.36 (KHTML, like Gecko) Chrome/56.0.2924.76 Safari/537.36'}"
   ]
  },
  {
   "cell_type": "code",
   "execution_count": 3,
   "metadata": {},
   "outputs": [],
   "source": [
    "url = 'https://www.imdb.com/find?q=inception&ref_=nv_sr_sm'"
   ]
  },
  {
   "cell_type": "code",
   "execution_count": 4,
   "metadata": {},
   "outputs": [],
   "source": [
    "webpage = requests.get(url, headers=headers).text\n",
    "soup = bs(webpage, 'lxml')"
   ]
  },
  {
   "cell_type": "code",
   "execution_count": 5,
   "metadata": {},
   "outputs": [],
   "source": [
    "res=soup.find_all('div',class_='findSection')"
   ]
  },
  {
   "cell_type": "code",
   "execution_count": 6,
   "metadata": {},
   "outputs": [],
   "source": [
    "res=res[0]"
   ]
  },
  {
   "cell_type": "code",
   "execution_count": 7,
   "metadata": {},
   "outputs": [
    {
     "name": "stdout",
     "output_type": "stream",
     "text": [
      "Inception (2010)\n",
      "Inception (2014) (Short)\n",
      "Inception (2013) (TV Episode)  - Season 1 | Episode 3  - Workforce (2013) (TV Series)\n",
      "Inception: The Cobol Job (2010) (Video)\n"
     ]
    }
   ],
   "source": [
    "for i in res.find_all('td', class_=\"result_text\"):\n",
    "    print((i.text).strip())"
   ]
  },
  {
   "cell_type": "code",
   "execution_count": 8,
   "metadata": {},
   "outputs": [
    {
     "name": "stdout",
     "output_type": "stream",
     "text": [
      "/title/tt1375666/?ref_=fn_al_tt_1\n",
      "/title/tt7321322/?ref_=fn_al_tt_2\n",
      "/title/tt2967010/?ref_=fn_al_tt_3\n",
      "/title/tt5295894/?ref_=fn_al_tt_4\n"
     ]
    }
   ],
   "source": [
    "##'a', href=re.compile(r'[/]([a-z]|[A-Z])\\w+')).attrs['href']\n",
    "for i in res.find_all('td', class_=\"result_text\"):\n",
    "    print((i.find('a', href=re.compile(r'[/]([a-z]|[A-Z])\\w+')).attrs['href']))\n"
   ]
  },
  {
   "cell_type": "code",
   "execution_count": null,
   "metadata": {},
   "outputs": [],
   "source": []
  },
  {
   "cell_type": "code",
   "execution_count": null,
   "metadata": {},
   "outputs": [],
   "source": []
  },
  {
   "cell_type": "code",
   "execution_count": 12,
   "metadata": {},
   "outputs": [],
   "source": [
    "def remove_special(text):\n",
    "    x = ''\n",
    "\n",
    "    for i in text:\n",
    "        if i.isalnum():\n",
    "            x = x + i\n",
    "        else:\n",
    "            x = x + ' '\n",
    "    return x"
   ]
  },
  {
   "cell_type": "code",
   "execution_count": 10,
   "metadata": {},
   "outputs": [],
   "source": [
    "def url_link(text):\n",
    "    clean = re.compile('/title/')\n",
    "    x = re.sub(clean, '', text)\n",
    "    i=0\n",
    "    res=''\n",
    "    while i<len(x):\n",
    "        if x[i]=='/':\n",
    "            break\n",
    "        else:\n",
    "            res+=x[i]\n",
    "        i=i+1\n",
    "    return res"
   ]
  },
  {
   "cell_type": "code",
   "execution_count": 28,
   "metadata": {},
   "outputs": [
    {
     "data": {
      "text/plain": [
       "'tt1375666'"
      ]
     },
     "execution_count": 28,
     "metadata": {},
     "output_type": "execute_result"
    }
   ],
   "source": [
    "url_link('/title/tt1375666/?ref_=fn_al_tt_1')"
   ]
  },
  {
   "cell_type": "code",
   "execution_count": null,
   "metadata": {},
   "outputs": [],
   "source": []
  },
  {
   "cell_type": "code",
   "execution_count": null,
   "metadata": {},
   "outputs": [],
   "source": []
  },
  {
   "cell_type": "code",
   "execution_count": 13,
   "metadata": {},
   "outputs": [],
   "source": [
    "def search_item(movie_name):\n",
    "    if len(movie_name)==0:\n",
    "        return \"Write Movie Name\"\n",
    "    else:\n",
    "        url = \"https://www.imdb.com/find?q=\" + movie_name + \"&ref_=nv_sr_sm\"\n",
    "        webpage = requests.get(url, headers=headers).text\n",
    "        soup = bs(webpage, 'lxml')\n",
    "        scr_res = soup.find_all('div', class_='findSection')\n",
    "        movies, url_movie_detail_link = [], []\n",
    "        for i in scr_res[0].find_all('td', class_=\"result_text\"):\n",
    "            movies.append((i.text).strip())\n",
    "            url_movie_detail_link.append(url_link(i.find('a', href=re.compile(r'[/]([a-z]|[A-Z])\\w+')).attrs['href']))\n",
    "\n",
    "        return movies, url_movie_detail_link"
   ]
  },
  {
   "cell_type": "code",
   "execution_count": 14,
   "metadata": {
    "scrolled": true
   },
   "outputs": [
    {
     "data": {
      "text/plain": [
       "(['Inception (2010)',\n",
       "  'Inception (2014) (Short)',\n",
       "  'Inception (2013) (TV Episode)  - Season 1 | Episode 3  - Workforce (2013) (TV Series)',\n",
       "  'Inception: The Cobol Job (2010) (Video)'],\n",
       " ['tt1375666', 'tt7321322', 'tt2967010', 'tt5295894'])"
      ]
     },
     "execution_count": 14,
     "metadata": {},
     "output_type": "execute_result"
    }
   ],
   "source": [
    "search_item('inception')"
   ]
  },
  {
   "cell_type": "code",
   "execution_count": 15,
   "metadata": {},
   "outputs": [],
   "source": [
    "m,code=search_item('dhoom')"
   ]
  },
  {
   "cell_type": "code",
   "execution_count": 16,
   "metadata": {},
   "outputs": [
    {
     "data": {
      "text/plain": [
       "['tt0422091', 'tt1833673', 'tt0441048', 'tt3681488']"
      ]
     },
     "execution_count": 16,
     "metadata": {},
     "output_type": "execute_result"
    }
   ],
   "source": [
    "code"
   ]
  },
  {
   "cell_type": "code",
   "execution_count": 17,
   "metadata": {},
   "outputs": [],
   "source": [
    "code=code[0]"
   ]
  },
  {
   "cell_type": "code",
   "execution_count": 18,
   "metadata": {},
   "outputs": [
    {
     "data": {
      "text/plain": [
       "'tt0422091'"
      ]
     },
     "execution_count": 18,
     "metadata": {},
     "output_type": "execute_result"
    }
   ],
   "source": [
    "code"
   ]
  },
  {
   "cell_type": "code",
   "execution_count": 19,
   "metadata": {},
   "outputs": [],
   "source": [
    "url1 = \"https://www.imdb.com/title/{}/?ref_=fn_tt_tt_1\".format(code)\n",
    "url2 = \"https://www.imdb.com/title/{}/reviews?ref_=tt_urv\".format(code)"
   ]
  },
  {
   "cell_type": "code",
   "execution_count": 20,
   "metadata": {},
   "outputs": [
    {
     "data": {
      "text/plain": [
       "'https://www.imdb.com/title/tt0422091/?ref_=fn_tt_tt_1'"
      ]
     },
     "execution_count": 20,
     "metadata": {},
     "output_type": "execute_result"
    }
   ],
   "source": [
    "url1"
   ]
  },
  {
   "cell_type": "code",
   "execution_count": 21,
   "metadata": {},
   "outputs": [
    {
     "data": {
      "text/plain": [
       "'https://www.imdb.com/title/tt0422091/reviews?ref_=tt_urv'"
      ]
     },
     "execution_count": 21,
     "metadata": {},
     "output_type": "execute_result"
    }
   ],
   "source": [
    "url2"
   ]
  },
  {
   "cell_type": "code",
   "execution_count": 22,
   "metadata": {},
   "outputs": [],
   "source": [
    "def movie_img(url):\n",
    "    ul=''\n",
    "    webpage=requests.get(url, headers= headers).text\n",
    "    soup=bs(webpage,'lxml')\n",
    "    for i in soup.find_all('div',class_='poster'):\n",
    "        ul = (i.find('img')).get('src')\n",
    "    return ul"
   ]
  },
  {
   "cell_type": "code",
   "execution_count": 23,
   "metadata": {},
   "outputs": [
    {
     "data": {
      "text/plain": [
       "'https://m.media-amazon.com/images/M/MV5BOTk3MDNhODEtMWYyMC00NmVjLTg3NzgtNjI1MzA4ZmVhMjE2XkEyXkFqcGdeQXVyNTkzNDQ4ODc@._V1_UY268_CR9,0,182,268_AL__QL50.jpg'"
      ]
     },
     "execution_count": 23,
     "metadata": {},
     "output_type": "execute_result"
    }
   ],
   "source": [
    "movie_img(url1)"
   ]
  },
  {
   "cell_type": "code",
   "execution_count": null,
   "metadata": {},
   "outputs": [],
   "source": []
  },
  {
   "cell_type": "code",
   "execution_count": 24,
   "metadata": {},
   "outputs": [],
   "source": [
    "def movie_plot(url):\n",
    "    plot=''\n",
    "    webpage=requests.get(url, headers= headers).text\n",
    "    soup=bs(webpage,'lxml')\n",
    "    for i in soup.find_all('div',class_='summary_text'):\n",
    "        if (((i.text).strip()=='Add a Plot »') or (len((i.text).strip())<15)):\n",
    "            plot = 'Not Available'\n",
    "        else:\n",
    "            plot = (i.text).strip()\n",
    "    return plot"
   ]
  },
  {
   "cell_type": "code",
   "execution_count": 25,
   "metadata": {},
   "outputs": [
    {
     "data": {
      "text/plain": [
       "\"A mysterious gang of bikers is on a robbing spree. ACP Jai gets Ali, a mechanic, to assist him in the case. With the clock ticking, it's up to them to nab the thieves red-handed.\""
      ]
     },
     "execution_count": 25,
     "metadata": {},
     "output_type": "execute_result"
    }
   ],
   "source": [
    "movie_plot(url1)"
   ]
  },
  {
   "cell_type": "code",
   "execution_count": 26,
   "metadata": {},
   "outputs": [],
   "source": [
    "def movie_details(url):\n",
    "    webpage = requests.get(url, headers=headers).text\n",
    "    soup = bs(webpage, 'lxml')\n",
    "    movie_name = ''\n",
    "    l = []\n",
    "    movie_rating = ''\n",
    "    for i in soup.find_all('h1', class_=\"\"):\n",
    "        movie_name = (remove_special(i.text).strip()).strip()\n",
    "    for i in soup.find_all('div', class_='ratingValue'):\n",
    "        movie_rating = (i.text).strip()\n",
    "\n",
    "    for i in soup.find_all('div', class_=\"credit_summary_item\"):\n",
    "        l.append(remove_special((i.text).strip()).strip())\n",
    "    s = []\n",
    "    f = []\n",
    "    val = 0\n",
    "    while val < len(l):\n",
    "        for i in l[val].split(' '):\n",
    "            if i == 'See':\n",
    "                break\n",
    "            else:\n",
    "                s.append(i.strip())\n",
    "                x = ' '.join(s)\n",
    "        f.append(x.strip())\n",
    "        s.clear()\n",
    "\n",
    "        val = val + 1\n",
    "\n",
    "    return movie_name, movie_rating, f"
   ]
  },
  {
   "cell_type": "code",
   "execution_count": 27,
   "metadata": {},
   "outputs": [
    {
     "data": {
      "text/plain": [
       "('Dhoom  2004',\n",
       " '6.7/10',\n",
       " ['Director  Sanjay Gadhvi',\n",
       "  'Writers  Vijay Krishna Acharya  dialogue   Vijay Krishna Acharya  screenplay',\n",
       "  'Stars  Abhishek Bachchan  John Abraham  Uday Chopra'])"
      ]
     },
     "execution_count": 27,
     "metadata": {},
     "output_type": "execute_result"
    }
   ],
   "source": [
    "movie_details(url1)  "
   ]
  },
  {
   "cell_type": "code",
   "execution_count": null,
   "metadata": {},
   "outputs": [],
   "source": []
  },
  {
   "cell_type": "code",
   "execution_count": null,
   "metadata": {},
   "outputs": [],
   "source": [
    "def site_review(u):\n",
    "    page = requests.get(u, headers=headers).text\n",
    "\n",
    "    soup = bs(page, 'lxml')\n",
    "    pg = soup.find_all('div', class_='lister-item-content')\n",
    "\n",
    "    url_user_name, url_title, url_rating, url_reviews = [], [], [], []  ## content\n",
    "\n",
    "    for i in pg:\n",
    "        try:\n",
    "            url_title.append((i.find('a', class_=\"title\").text).strip())\n",
    "        except:\n",
    "            url_title.append('not available')\n",
    "        try:\n",
    "            url_rating.append((i.find('span', class_=\"rating-other-user-rating\").text).strip())\n",
    "        except:\n",
    "            url_rating.append('not available')\n",
    "        try:\n",
    "            url_user_name.append((i.find('span', class_=\"display-name-link\").text).strip())\n",
    "        except:\n",
    "            url_user_name.append('not available')\n",
    "        try:\n",
    "            url_reviews.append((i.find('div', class_=\"text show-more__control\").text).strip())\n",
    "        except:\n",
    "            url_reviews.append('not available')\n",
    "    return url_user_name, url_title, url_rating, url_reviews"
   ]
  },
  {
   "cell_type": "code",
   "execution_count": null,
   "metadata": {},
   "outputs": [],
   "source": [
    "user_name,review_title,review_rating,review = site_review(url2)"
   ]
  },
  {
   "cell_type": "code",
   "execution_count": null,
   "metadata": {},
   "outputs": [],
   "source": [
    "review"
   ]
  },
  {
   "cell_type": "code",
   "execution_count": null,
   "metadata": {},
   "outputs": [],
   "source": []
  }
 ],
 "metadata": {
  "kernelspec": {
   "display_name": "Python 3",
   "language": "python",
   "name": "python3"
  },
  "language_info": {
   "codemirror_mode": {
    "name": "ipython",
    "version": 3
   },
   "file_extension": ".py",
   "mimetype": "text/x-python",
   "name": "python",
   "nbconvert_exporter": "python",
   "pygments_lexer": "ipython3",
   "version": "3.7.3"
  }
 },
 "nbformat": 4,
 "nbformat_minor": 2
}
